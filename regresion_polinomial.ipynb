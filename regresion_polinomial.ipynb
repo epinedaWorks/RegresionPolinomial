{
 "cells": [
  {
   "cell_type": "markdown",
   "metadata": {},
   "source": [
    "![nombreNotebook.JPG](img/nombreNotebook.JPG)  \n"
   ]
  },
  {
   "cell_type": "markdown",
   "metadata": {},
   "source": [
    "# Tarea 2 - Regresion Polinomial & Feature engineering\n",
    "\n",
    "### Parte 1 - Modelo exponencial de covid-19 usando feature-eng\n",
    "\n",
    "Usando el ejemplo de covid-19 en el notebook de feature-eng (https://colab.research.google.com/drive/1sJV2HG7tQgCGKES3-dIclzHQJ9qAWB3b?usp=sharing) crear un modelo de covid-19 para Guatemala.\n",
    "\n",
    "* Convertir la fecha a un entero \"número de día\", por ejemplo si se usan datos desde el 22 de abril, este es el día 0, el 23 es el día 1.\n",
    "* Aplicar regresión lineal sobre la variable \"Confirmed\" transformada.\n",
    "* Una vez entrenado el modelo usarlo para aproximar la cantidad de casos confirmados para el 30 de mayo. Se debe reportar la cantidad de casos, no la cantidad transformada obtenida."
   ]
  },
  {
   "cell_type": "markdown",
   "metadata": {},
   "source": [
    "------------ En proceso"
   ]
  },
  {
   "cell_type": "markdown",
   "metadata": {},
   "source": [
    "### Parte 2 - Modelo polinomial de calidad de vinos"
   ]
  },
  {
   "cell_type": "markdown",
   "metadata": {},
   "source": [
    "Es permitido utilizar [sklearn.preprocessing.polynomialfeatures](https://scikit-learn.org/stable/modules/generated/sklearn.preprocessing.PolynomialFeatures.html)\n",
    "\n",
    "\n",
    "### Instrucciones\n",
    "\n",
    "1. Seleccionar y transformar(generando las combinaciones polinomiales para un polinomio de grado dos o tres a elección) las features que considere que son las mejores para predecir la calidad del vino, utilizar como minimo 2 features. Para seleccionar las features, hacer un analisis exploratorio por ejemplo(pero no limitado a ):  graficando y viendo la forma en que se comportan los datos.\n",
    "\n",
    " Por ejemplo, se tienen las features \"a\" y \"b\" y seleccionamos polinomio de grado 2, hacemos feature engineering para obtener :\n",
    " \n",
    " $[a,b,a^{2},b^{2},ab]$\n",
    " \n",
    " No olvidar el \"bias\" (parámetro multiplicado por 1) ,con lo cual el dataset puede quedar con las columnas:\n",
    " \n",
    " $[1,a,b,a^{2},b^{2},ab]$\n",
    "2. Una vez transformada la data aplicar regresion lineal con las features polinomiales usando Tensorflow.\n",
    "\n",
    "Requisitos adicionales:\n",
    "* Se debe agregar al notebook un screenshot del grafo de tensorboard, simplificando(usando  names , y name_scope como visto en clase).\n",
    "\n",
    "* Se debe generar un directorio de logs de tensorboard para cada corrida/experimento , con cada directorio identificando facilmente la configuración del experimento como visto en clase, por ejemplo para un experimento con learning rate = 0.1 , y polinomio grado 2  crear un directorio: lr=0.1_polinomio_grado=2. (Agregar al notebook un screenshot de estas gráficas)\n",
    "\n",
    "* Concluir en markdown cual es el mejor modelo para este caso basado en la comparativa entre curvas de costo/error en tensorboard."
   ]
  },
  {
   "cell_type": "code",
   "execution_count": 1,
   "metadata": {},
   "outputs": [],
   "source": [
    "import pandas as pd\n",
    "import numpy as np\n",
    "import seaborn as sb \n",
    "import matplotlib.pyplot as plt"
   ]
  },
  {
   "cell_type": "code",
   "execution_count": 2,
   "metadata": {},
   "outputs": [],
   "source": [
    "dfVinos = pd.read_csv('winequality-red.csv')"
   ]
  },
  {
   "cell_type": "markdown",
   "metadata": {},
   "source": [
    "Para efectos prácticos se considera utilizar la versión 1 de tensorFlow, por lo cual se desactiva la versión 2 que es la actual"
   ]
  },
  {
   "cell_type": "code",
   "execution_count": 3,
   "metadata": {},
   "outputs": [
    {
     "name": "stderr",
     "output_type": "stream",
     "text": [
      "WARNING: Logging before flag parsing goes to stderr.\n",
      "W0613 01:01:14.101024 10256 deprecation.py:323] From C:\\ProgramData\\Anaconda3\\lib\\site-packages\\tensorflow\\python\\compat\\v2_compat.py:96: disable_resource_variables (from tensorflow.python.ops.variable_scope) is deprecated and will be removed in a future version.\n",
      "Instructions for updating:\n",
      "non-resource variables are not supported in the long term\n"
     ]
    }
   ],
   "source": [
    "import tensorflow.compat.v1 as tf\n",
    "tf.disable_v2_behavior()"
   ]
  },
  {
   "cell_type": "markdown",
   "metadata": {},
   "source": [
    "### Red Wine Quality Data\n",
    "\n",
    "Se aplicará regresión para crear un modelo de la calidad de vino en función de características del mismo, siendo 1 el peor vino y 10 el mejor.\n",
    "\n",
    "Variables de entrada:\n",
    "1. fixed acidity \n",
    "2. volatile acidity \n",
    "3. citric acid \n",
    "4. residual sugar \n",
    "5. chlorides \n",
    "6. free sulfur dioxide \n",
    "7. total sulfur dioxide \n",
    "8. density \n",
    "9. pH \n",
    "10. sulphates \n",
    "11. alcohol \n",
    "\n",
    "Varaible a predecir: \n",
    "12. quality (puntuacion  entre 0 y 10) \n",
    "\n"
   ]
  },
  {
   "cell_type": "markdown",
   "metadata": {
    "collapsed": true,
    "jupyter": {
     "outputs_hidden": true
    }
   },
   "source": [
    "## Analisis exploratorio\n",
    "Cantidad de variables y observaciones.  \n"
   ]
  },
  {
   "cell_type": "code",
   "execution_count": 4,
   "metadata": {},
   "outputs": [
    {
     "name": "stdout",
     "output_type": "stream",
     "text": [
      "Data Frame de Entrenamiento:    (1599, 12)\n"
     ]
    }
   ],
   "source": [
    "print(\"Data Frame de Entrenamiento:   \",dfVinos.shape)"
   ]
  },
  {
   "cell_type": "code",
   "execution_count": 5,
   "metadata": {},
   "outputs": [
    {
     "data": {
      "text/plain": [
       "Index(['fixed acidity', 'volatile acidity', 'citric acid', 'residual sugar',\n",
       "       'chlorides', 'free sulfur dioxide', 'total sulfur dioxide', 'density',\n",
       "       'pH', 'sulphates', 'alcohol', 'quality'],\n",
       "      dtype='object')"
      ]
     },
     "execution_count": 5,
     "metadata": {},
     "output_type": "execute_result"
    }
   ],
   "source": [
    "dfVinos.columns"
   ]
  },
  {
   "cell_type": "markdown",
   "metadata": {},
   "source": [
    "**Nota:**  \n",
    "Se tienen 1599 observaciones y 12 variables a analizar.  \n",
    "**Observar que la columna 11 es la calidad de vino, la cual se utilizará como variable dependiente Y**\n",
    "\n",
    "Ejemplo del contenido del dataset"
   ]
  },
  {
   "cell_type": "code",
   "execution_count": 6,
   "metadata": {},
   "outputs": [
    {
     "data": {
      "text/html": [
       "<div>\n",
       "<style scoped>\n",
       "    .dataframe tbody tr th:only-of-type {\n",
       "        vertical-align: middle;\n",
       "    }\n",
       "\n",
       "    .dataframe tbody tr th {\n",
       "        vertical-align: top;\n",
       "    }\n",
       "\n",
       "    .dataframe thead th {\n",
       "        text-align: right;\n",
       "    }\n",
       "</style>\n",
       "<table border=\"1\" class=\"dataframe\">\n",
       "  <thead>\n",
       "    <tr style=\"text-align: right;\">\n",
       "      <th></th>\n",
       "      <th>fixed acidity</th>\n",
       "      <th>volatile acidity</th>\n",
       "      <th>citric acid</th>\n",
       "      <th>residual sugar</th>\n",
       "      <th>chlorides</th>\n",
       "      <th>free sulfur dioxide</th>\n",
       "      <th>total sulfur dioxide</th>\n",
       "      <th>density</th>\n",
       "      <th>pH</th>\n",
       "      <th>sulphates</th>\n",
       "      <th>alcohol</th>\n",
       "      <th>quality</th>\n",
       "    </tr>\n",
       "  </thead>\n",
       "  <tbody>\n",
       "    <tr>\n",
       "      <th>0</th>\n",
       "      <td>7.4</td>\n",
       "      <td>0.70</td>\n",
       "      <td>0.00</td>\n",
       "      <td>1.9</td>\n",
       "      <td>0.076</td>\n",
       "      <td>11.0</td>\n",
       "      <td>34.0</td>\n",
       "      <td>0.9978</td>\n",
       "      <td>3.51</td>\n",
       "      <td>0.56</td>\n",
       "      <td>9.4</td>\n",
       "      <td>5</td>\n",
       "    </tr>\n",
       "    <tr>\n",
       "      <th>1</th>\n",
       "      <td>7.8</td>\n",
       "      <td>0.88</td>\n",
       "      <td>0.00</td>\n",
       "      <td>2.6</td>\n",
       "      <td>0.098</td>\n",
       "      <td>25.0</td>\n",
       "      <td>67.0</td>\n",
       "      <td>0.9968</td>\n",
       "      <td>3.20</td>\n",
       "      <td>0.68</td>\n",
       "      <td>9.8</td>\n",
       "      <td>5</td>\n",
       "    </tr>\n",
       "    <tr>\n",
       "      <th>2</th>\n",
       "      <td>7.8</td>\n",
       "      <td>0.76</td>\n",
       "      <td>0.04</td>\n",
       "      <td>2.3</td>\n",
       "      <td>0.092</td>\n",
       "      <td>15.0</td>\n",
       "      <td>54.0</td>\n",
       "      <td>0.9970</td>\n",
       "      <td>3.26</td>\n",
       "      <td>0.65</td>\n",
       "      <td>9.8</td>\n",
       "      <td>5</td>\n",
       "    </tr>\n",
       "    <tr>\n",
       "      <th>3</th>\n",
       "      <td>11.2</td>\n",
       "      <td>0.28</td>\n",
       "      <td>0.56</td>\n",
       "      <td>1.9</td>\n",
       "      <td>0.075</td>\n",
       "      <td>17.0</td>\n",
       "      <td>60.0</td>\n",
       "      <td>0.9980</td>\n",
       "      <td>3.16</td>\n",
       "      <td>0.58</td>\n",
       "      <td>9.8</td>\n",
       "      <td>6</td>\n",
       "    </tr>\n",
       "    <tr>\n",
       "      <th>4</th>\n",
       "      <td>7.4</td>\n",
       "      <td>0.70</td>\n",
       "      <td>0.00</td>\n",
       "      <td>1.9</td>\n",
       "      <td>0.076</td>\n",
       "      <td>11.0</td>\n",
       "      <td>34.0</td>\n",
       "      <td>0.9978</td>\n",
       "      <td>3.51</td>\n",
       "      <td>0.56</td>\n",
       "      <td>9.4</td>\n",
       "      <td>5</td>\n",
       "    </tr>\n",
       "  </tbody>\n",
       "</table>\n",
       "</div>"
      ],
      "text/plain": [
       "   fixed acidity  volatile acidity  citric acid  residual sugar  chlorides  \\\n",
       "0            7.4              0.70         0.00             1.9      0.076   \n",
       "1            7.8              0.88         0.00             2.6      0.098   \n",
       "2            7.8              0.76         0.04             2.3      0.092   \n",
       "3           11.2              0.28         0.56             1.9      0.075   \n",
       "4            7.4              0.70         0.00             1.9      0.076   \n",
       "\n",
       "   free sulfur dioxide  total sulfur dioxide  density    pH  sulphates  \\\n",
       "0                 11.0                  34.0   0.9978  3.51       0.56   \n",
       "1                 25.0                  67.0   0.9968  3.20       0.68   \n",
       "2                 15.0                  54.0   0.9970  3.26       0.65   \n",
       "3                 17.0                  60.0   0.9980  3.16       0.58   \n",
       "4                 11.0                  34.0   0.9978  3.51       0.56   \n",
       "\n",
       "   alcohol  quality  \n",
       "0      9.4        5  \n",
       "1      9.8        5  \n",
       "2      9.8        5  \n",
       "3      9.8        6  \n",
       "4      9.4        5  "
      ]
     },
     "execution_count": 6,
     "metadata": {},
     "output_type": "execute_result"
    }
   ],
   "source": [
    "dfVinos.head()"
   ]
  },
  {
   "cell_type": "markdown",
   "metadata": {},
   "source": [
    " Valores estadísticos"
   ]
  },
  {
   "cell_type": "code",
   "execution_count": 7,
   "metadata": {},
   "outputs": [
    {
     "data": {
      "text/html": [
       "<div>\n",
       "<style scoped>\n",
       "    .dataframe tbody tr th:only-of-type {\n",
       "        vertical-align: middle;\n",
       "    }\n",
       "\n",
       "    .dataframe tbody tr th {\n",
       "        vertical-align: top;\n",
       "    }\n",
       "\n",
       "    .dataframe thead th {\n",
       "        text-align: right;\n",
       "    }\n",
       "</style>\n",
       "<table border=\"1\" class=\"dataframe\">\n",
       "  <thead>\n",
       "    <tr style=\"text-align: right;\">\n",
       "      <th></th>\n",
       "      <th>fixed acidity</th>\n",
       "      <th>volatile acidity</th>\n",
       "      <th>citric acid</th>\n",
       "      <th>residual sugar</th>\n",
       "      <th>chlorides</th>\n",
       "      <th>free sulfur dioxide</th>\n",
       "      <th>total sulfur dioxide</th>\n",
       "      <th>density</th>\n",
       "      <th>pH</th>\n",
       "      <th>sulphates</th>\n",
       "      <th>alcohol</th>\n",
       "      <th>quality</th>\n",
       "    </tr>\n",
       "  </thead>\n",
       "  <tbody>\n",
       "    <tr>\n",
       "      <th>count</th>\n",
       "      <td>1599.000000</td>\n",
       "      <td>1599.000000</td>\n",
       "      <td>1599.000000</td>\n",
       "      <td>1599.000000</td>\n",
       "      <td>1599.000000</td>\n",
       "      <td>1599.000000</td>\n",
       "      <td>1599.000000</td>\n",
       "      <td>1599.000000</td>\n",
       "      <td>1599.000000</td>\n",
       "      <td>1599.000000</td>\n",
       "      <td>1599.000000</td>\n",
       "      <td>1599.000000</td>\n",
       "    </tr>\n",
       "    <tr>\n",
       "      <th>mean</th>\n",
       "      <td>8.319637</td>\n",
       "      <td>0.527821</td>\n",
       "      <td>0.270976</td>\n",
       "      <td>2.538806</td>\n",
       "      <td>0.087467</td>\n",
       "      <td>15.874922</td>\n",
       "      <td>46.467792</td>\n",
       "      <td>0.996747</td>\n",
       "      <td>3.311113</td>\n",
       "      <td>0.658149</td>\n",
       "      <td>10.422983</td>\n",
       "      <td>5.636023</td>\n",
       "    </tr>\n",
       "    <tr>\n",
       "      <th>std</th>\n",
       "      <td>1.741096</td>\n",
       "      <td>0.179060</td>\n",
       "      <td>0.194801</td>\n",
       "      <td>1.409928</td>\n",
       "      <td>0.047065</td>\n",
       "      <td>10.460157</td>\n",
       "      <td>32.895324</td>\n",
       "      <td>0.001887</td>\n",
       "      <td>0.154386</td>\n",
       "      <td>0.169507</td>\n",
       "      <td>1.065668</td>\n",
       "      <td>0.807569</td>\n",
       "    </tr>\n",
       "    <tr>\n",
       "      <th>min</th>\n",
       "      <td>4.600000</td>\n",
       "      <td>0.120000</td>\n",
       "      <td>0.000000</td>\n",
       "      <td>0.900000</td>\n",
       "      <td>0.012000</td>\n",
       "      <td>1.000000</td>\n",
       "      <td>6.000000</td>\n",
       "      <td>0.990070</td>\n",
       "      <td>2.740000</td>\n",
       "      <td>0.330000</td>\n",
       "      <td>8.400000</td>\n",
       "      <td>3.000000</td>\n",
       "    </tr>\n",
       "    <tr>\n",
       "      <th>25%</th>\n",
       "      <td>7.100000</td>\n",
       "      <td>0.390000</td>\n",
       "      <td>0.090000</td>\n",
       "      <td>1.900000</td>\n",
       "      <td>0.070000</td>\n",
       "      <td>7.000000</td>\n",
       "      <td>22.000000</td>\n",
       "      <td>0.995600</td>\n",
       "      <td>3.210000</td>\n",
       "      <td>0.550000</td>\n",
       "      <td>9.500000</td>\n",
       "      <td>5.000000</td>\n",
       "    </tr>\n",
       "    <tr>\n",
       "      <th>50%</th>\n",
       "      <td>7.900000</td>\n",
       "      <td>0.520000</td>\n",
       "      <td>0.260000</td>\n",
       "      <td>2.200000</td>\n",
       "      <td>0.079000</td>\n",
       "      <td>14.000000</td>\n",
       "      <td>38.000000</td>\n",
       "      <td>0.996750</td>\n",
       "      <td>3.310000</td>\n",
       "      <td>0.620000</td>\n",
       "      <td>10.200000</td>\n",
       "      <td>6.000000</td>\n",
       "    </tr>\n",
       "    <tr>\n",
       "      <th>75%</th>\n",
       "      <td>9.200000</td>\n",
       "      <td>0.640000</td>\n",
       "      <td>0.420000</td>\n",
       "      <td>2.600000</td>\n",
       "      <td>0.090000</td>\n",
       "      <td>21.000000</td>\n",
       "      <td>62.000000</td>\n",
       "      <td>0.997835</td>\n",
       "      <td>3.400000</td>\n",
       "      <td>0.730000</td>\n",
       "      <td>11.100000</td>\n",
       "      <td>6.000000</td>\n",
       "    </tr>\n",
       "    <tr>\n",
       "      <th>max</th>\n",
       "      <td>15.900000</td>\n",
       "      <td>1.580000</td>\n",
       "      <td>1.000000</td>\n",
       "      <td>15.500000</td>\n",
       "      <td>0.611000</td>\n",
       "      <td>72.000000</td>\n",
       "      <td>289.000000</td>\n",
       "      <td>1.003690</td>\n",
       "      <td>4.010000</td>\n",
       "      <td>2.000000</td>\n",
       "      <td>14.900000</td>\n",
       "      <td>8.000000</td>\n",
       "    </tr>\n",
       "  </tbody>\n",
       "</table>\n",
       "</div>"
      ],
      "text/plain": [
       "       fixed acidity  volatile acidity  citric acid  residual sugar  \\\n",
       "count    1599.000000       1599.000000  1599.000000     1599.000000   \n",
       "mean        8.319637          0.527821     0.270976        2.538806   \n",
       "std         1.741096          0.179060     0.194801        1.409928   \n",
       "min         4.600000          0.120000     0.000000        0.900000   \n",
       "25%         7.100000          0.390000     0.090000        1.900000   \n",
       "50%         7.900000          0.520000     0.260000        2.200000   \n",
       "75%         9.200000          0.640000     0.420000        2.600000   \n",
       "max        15.900000          1.580000     1.000000       15.500000   \n",
       "\n",
       "         chlorides  free sulfur dioxide  total sulfur dioxide      density  \\\n",
       "count  1599.000000          1599.000000           1599.000000  1599.000000   \n",
       "mean      0.087467            15.874922             46.467792     0.996747   \n",
       "std       0.047065            10.460157             32.895324     0.001887   \n",
       "min       0.012000             1.000000              6.000000     0.990070   \n",
       "25%       0.070000             7.000000             22.000000     0.995600   \n",
       "50%       0.079000            14.000000             38.000000     0.996750   \n",
       "75%       0.090000            21.000000             62.000000     0.997835   \n",
       "max       0.611000            72.000000            289.000000     1.003690   \n",
       "\n",
       "                pH    sulphates      alcohol      quality  \n",
       "count  1599.000000  1599.000000  1599.000000  1599.000000  \n",
       "mean      3.311113     0.658149    10.422983     5.636023  \n",
       "std       0.154386     0.169507     1.065668     0.807569  \n",
       "min       2.740000     0.330000     8.400000     3.000000  \n",
       "25%       3.210000     0.550000     9.500000     5.000000  \n",
       "50%       3.310000     0.620000    10.200000     6.000000  \n",
       "75%       3.400000     0.730000    11.100000     6.000000  \n",
       "max       4.010000     2.000000    14.900000     8.000000  "
      ]
     },
     "execution_count": 7,
     "metadata": {},
     "output_type": "execute_result"
    }
   ],
   "source": [
    "dfVinos.describe()"
   ]
  },
  {
   "cell_type": "markdown",
   "metadata": {},
   "source": [
    "Analizando correlación:"
   ]
  },
  {
   "cell_type": "code",
   "execution_count": 8,
   "metadata": {},
   "outputs": [
    {
     "data": {
      "text/html": [
       "<div>\n",
       "<style scoped>\n",
       "    .dataframe tbody tr th:only-of-type {\n",
       "        vertical-align: middle;\n",
       "    }\n",
       "\n",
       "    .dataframe tbody tr th {\n",
       "        vertical-align: top;\n",
       "    }\n",
       "\n",
       "    .dataframe thead th {\n",
       "        text-align: right;\n",
       "    }\n",
       "</style>\n",
       "<table border=\"1\" class=\"dataframe\">\n",
       "  <thead>\n",
       "    <tr style=\"text-align: right;\">\n",
       "      <th></th>\n",
       "      <th>fixed acidity</th>\n",
       "      <th>volatile acidity</th>\n",
       "      <th>citric acid</th>\n",
       "      <th>residual sugar</th>\n",
       "      <th>chlorides</th>\n",
       "      <th>free sulfur dioxide</th>\n",
       "      <th>total sulfur dioxide</th>\n",
       "      <th>density</th>\n",
       "      <th>pH</th>\n",
       "      <th>sulphates</th>\n",
       "      <th>alcohol</th>\n",
       "      <th>quality</th>\n",
       "    </tr>\n",
       "  </thead>\n",
       "  <tbody>\n",
       "    <tr>\n",
       "      <th>fixed acidity</th>\n",
       "      <td>1.000000</td>\n",
       "      <td>-0.256131</td>\n",
       "      <td>0.671703</td>\n",
       "      <td>0.114777</td>\n",
       "      <td>0.093705</td>\n",
       "      <td>-0.153794</td>\n",
       "      <td>-0.113181</td>\n",
       "      <td>0.668047</td>\n",
       "      <td>-0.682978</td>\n",
       "      <td>0.183006</td>\n",
       "      <td>-0.061668</td>\n",
       "      <td>0.124052</td>\n",
       "    </tr>\n",
       "    <tr>\n",
       "      <th>volatile acidity</th>\n",
       "      <td>-0.256131</td>\n",
       "      <td>1.000000</td>\n",
       "      <td>-0.552496</td>\n",
       "      <td>0.001918</td>\n",
       "      <td>0.061298</td>\n",
       "      <td>-0.010504</td>\n",
       "      <td>0.076470</td>\n",
       "      <td>0.022026</td>\n",
       "      <td>0.234937</td>\n",
       "      <td>-0.260987</td>\n",
       "      <td>-0.202288</td>\n",
       "      <td>-0.390558</td>\n",
       "    </tr>\n",
       "    <tr>\n",
       "      <th>citric acid</th>\n",
       "      <td>0.671703</td>\n",
       "      <td>-0.552496</td>\n",
       "      <td>1.000000</td>\n",
       "      <td>0.143577</td>\n",
       "      <td>0.203823</td>\n",
       "      <td>-0.060978</td>\n",
       "      <td>0.035533</td>\n",
       "      <td>0.364947</td>\n",
       "      <td>-0.541904</td>\n",
       "      <td>0.312770</td>\n",
       "      <td>0.109903</td>\n",
       "      <td>0.226373</td>\n",
       "    </tr>\n",
       "    <tr>\n",
       "      <th>residual sugar</th>\n",
       "      <td>0.114777</td>\n",
       "      <td>0.001918</td>\n",
       "      <td>0.143577</td>\n",
       "      <td>1.000000</td>\n",
       "      <td>0.055610</td>\n",
       "      <td>0.187049</td>\n",
       "      <td>0.203028</td>\n",
       "      <td>0.355283</td>\n",
       "      <td>-0.085652</td>\n",
       "      <td>0.005527</td>\n",
       "      <td>0.042075</td>\n",
       "      <td>0.013732</td>\n",
       "    </tr>\n",
       "    <tr>\n",
       "      <th>chlorides</th>\n",
       "      <td>0.093705</td>\n",
       "      <td>0.061298</td>\n",
       "      <td>0.203823</td>\n",
       "      <td>0.055610</td>\n",
       "      <td>1.000000</td>\n",
       "      <td>0.005562</td>\n",
       "      <td>0.047400</td>\n",
       "      <td>0.200632</td>\n",
       "      <td>-0.265026</td>\n",
       "      <td>0.371260</td>\n",
       "      <td>-0.221141</td>\n",
       "      <td>-0.128907</td>\n",
       "    </tr>\n",
       "    <tr>\n",
       "      <th>free sulfur dioxide</th>\n",
       "      <td>-0.153794</td>\n",
       "      <td>-0.010504</td>\n",
       "      <td>-0.060978</td>\n",
       "      <td>0.187049</td>\n",
       "      <td>0.005562</td>\n",
       "      <td>1.000000</td>\n",
       "      <td>0.667666</td>\n",
       "      <td>-0.021946</td>\n",
       "      <td>0.070377</td>\n",
       "      <td>0.051658</td>\n",
       "      <td>-0.069408</td>\n",
       "      <td>-0.050656</td>\n",
       "    </tr>\n",
       "    <tr>\n",
       "      <th>total sulfur dioxide</th>\n",
       "      <td>-0.113181</td>\n",
       "      <td>0.076470</td>\n",
       "      <td>0.035533</td>\n",
       "      <td>0.203028</td>\n",
       "      <td>0.047400</td>\n",
       "      <td>0.667666</td>\n",
       "      <td>1.000000</td>\n",
       "      <td>0.071269</td>\n",
       "      <td>-0.066495</td>\n",
       "      <td>0.042947</td>\n",
       "      <td>-0.205654</td>\n",
       "      <td>-0.185100</td>\n",
       "    </tr>\n",
       "    <tr>\n",
       "      <th>density</th>\n",
       "      <td>0.668047</td>\n",
       "      <td>0.022026</td>\n",
       "      <td>0.364947</td>\n",
       "      <td>0.355283</td>\n",
       "      <td>0.200632</td>\n",
       "      <td>-0.021946</td>\n",
       "      <td>0.071269</td>\n",
       "      <td>1.000000</td>\n",
       "      <td>-0.341699</td>\n",
       "      <td>0.148506</td>\n",
       "      <td>-0.496180</td>\n",
       "      <td>-0.174919</td>\n",
       "    </tr>\n",
       "    <tr>\n",
       "      <th>pH</th>\n",
       "      <td>-0.682978</td>\n",
       "      <td>0.234937</td>\n",
       "      <td>-0.541904</td>\n",
       "      <td>-0.085652</td>\n",
       "      <td>-0.265026</td>\n",
       "      <td>0.070377</td>\n",
       "      <td>-0.066495</td>\n",
       "      <td>-0.341699</td>\n",
       "      <td>1.000000</td>\n",
       "      <td>-0.196648</td>\n",
       "      <td>0.205633</td>\n",
       "      <td>-0.057731</td>\n",
       "    </tr>\n",
       "    <tr>\n",
       "      <th>sulphates</th>\n",
       "      <td>0.183006</td>\n",
       "      <td>-0.260987</td>\n",
       "      <td>0.312770</td>\n",
       "      <td>0.005527</td>\n",
       "      <td>0.371260</td>\n",
       "      <td>0.051658</td>\n",
       "      <td>0.042947</td>\n",
       "      <td>0.148506</td>\n",
       "      <td>-0.196648</td>\n",
       "      <td>1.000000</td>\n",
       "      <td>0.093595</td>\n",
       "      <td>0.251397</td>\n",
       "    </tr>\n",
       "    <tr>\n",
       "      <th>alcohol</th>\n",
       "      <td>-0.061668</td>\n",
       "      <td>-0.202288</td>\n",
       "      <td>0.109903</td>\n",
       "      <td>0.042075</td>\n",
       "      <td>-0.221141</td>\n",
       "      <td>-0.069408</td>\n",
       "      <td>-0.205654</td>\n",
       "      <td>-0.496180</td>\n",
       "      <td>0.205633</td>\n",
       "      <td>0.093595</td>\n",
       "      <td>1.000000</td>\n",
       "      <td>0.476166</td>\n",
       "    </tr>\n",
       "    <tr>\n",
       "      <th>quality</th>\n",
       "      <td>0.124052</td>\n",
       "      <td>-0.390558</td>\n",
       "      <td>0.226373</td>\n",
       "      <td>0.013732</td>\n",
       "      <td>-0.128907</td>\n",
       "      <td>-0.050656</td>\n",
       "      <td>-0.185100</td>\n",
       "      <td>-0.174919</td>\n",
       "      <td>-0.057731</td>\n",
       "      <td>0.251397</td>\n",
       "      <td>0.476166</td>\n",
       "      <td>1.000000</td>\n",
       "    </tr>\n",
       "  </tbody>\n",
       "</table>\n",
       "</div>"
      ],
      "text/plain": [
       "                      fixed acidity  volatile acidity  citric acid  \\\n",
       "fixed acidity              1.000000         -0.256131     0.671703   \n",
       "volatile acidity          -0.256131          1.000000    -0.552496   \n",
       "citric acid                0.671703         -0.552496     1.000000   \n",
       "residual sugar             0.114777          0.001918     0.143577   \n",
       "chlorides                  0.093705          0.061298     0.203823   \n",
       "free sulfur dioxide       -0.153794         -0.010504    -0.060978   \n",
       "total sulfur dioxide      -0.113181          0.076470     0.035533   \n",
       "density                    0.668047          0.022026     0.364947   \n",
       "pH                        -0.682978          0.234937    -0.541904   \n",
       "sulphates                  0.183006         -0.260987     0.312770   \n",
       "alcohol                   -0.061668         -0.202288     0.109903   \n",
       "quality                    0.124052         -0.390558     0.226373   \n",
       "\n",
       "                      residual sugar  chlorides  free sulfur dioxide  \\\n",
       "fixed acidity               0.114777   0.093705            -0.153794   \n",
       "volatile acidity            0.001918   0.061298            -0.010504   \n",
       "citric acid                 0.143577   0.203823            -0.060978   \n",
       "residual sugar              1.000000   0.055610             0.187049   \n",
       "chlorides                   0.055610   1.000000             0.005562   \n",
       "free sulfur dioxide         0.187049   0.005562             1.000000   \n",
       "total sulfur dioxide        0.203028   0.047400             0.667666   \n",
       "density                     0.355283   0.200632            -0.021946   \n",
       "pH                         -0.085652  -0.265026             0.070377   \n",
       "sulphates                   0.005527   0.371260             0.051658   \n",
       "alcohol                     0.042075  -0.221141            -0.069408   \n",
       "quality                     0.013732  -0.128907            -0.050656   \n",
       "\n",
       "                      total sulfur dioxide   density        pH  sulphates  \\\n",
       "fixed acidity                    -0.113181  0.668047 -0.682978   0.183006   \n",
       "volatile acidity                  0.076470  0.022026  0.234937  -0.260987   \n",
       "citric acid                       0.035533  0.364947 -0.541904   0.312770   \n",
       "residual sugar                    0.203028  0.355283 -0.085652   0.005527   \n",
       "chlorides                         0.047400  0.200632 -0.265026   0.371260   \n",
       "free sulfur dioxide               0.667666 -0.021946  0.070377   0.051658   \n",
       "total sulfur dioxide              1.000000  0.071269 -0.066495   0.042947   \n",
       "density                           0.071269  1.000000 -0.341699   0.148506   \n",
       "pH                               -0.066495 -0.341699  1.000000  -0.196648   \n",
       "sulphates                         0.042947  0.148506 -0.196648   1.000000   \n",
       "alcohol                          -0.205654 -0.496180  0.205633   0.093595   \n",
       "quality                          -0.185100 -0.174919 -0.057731   0.251397   \n",
       "\n",
       "                       alcohol   quality  \n",
       "fixed acidity        -0.061668  0.124052  \n",
       "volatile acidity     -0.202288 -0.390558  \n",
       "citric acid           0.109903  0.226373  \n",
       "residual sugar        0.042075  0.013732  \n",
       "chlorides            -0.221141 -0.128907  \n",
       "free sulfur dioxide  -0.069408 -0.050656  \n",
       "total sulfur dioxide -0.205654 -0.185100  \n",
       "density              -0.496180 -0.174919  \n",
       "pH                    0.205633 -0.057731  \n",
       "sulphates             0.093595  0.251397  \n",
       "alcohol               1.000000  0.476166  \n",
       "quality               0.476166  1.000000  "
      ]
     },
     "execution_count": 8,
     "metadata": {},
     "output_type": "execute_result"
    }
   ],
   "source": [
    "dfVinos.corr()"
   ]
  },
  {
   "cell_type": "markdown",
   "metadata": {},
   "source": [
    "Se ordenan los valores de la columna **\"quality\"** para identificar las filas que tienen mayor correlación tanto positiva como negativa.  "
   ]
  },
  {
   "cell_type": "code",
   "execution_count": 9,
   "metadata": {},
   "outputs": [
    {
     "data": {
      "text/plain": [
       "quality                 1.000000\n",
       "alcohol                 0.476166\n",
       "sulphates               0.251397\n",
       "citric acid             0.226373\n",
       "fixed acidity           0.124052\n",
       "residual sugar          0.013732\n",
       "free sulfur dioxide    -0.050656\n",
       "pH                     -0.057731\n",
       "chlorides              -0.128907\n",
       "density                -0.174919\n",
       "total sulfur dioxide   -0.185100\n",
       "volatile acidity       -0.390558\n",
       "Name: quality, dtype: float64"
      ]
     },
     "execution_count": 9,
     "metadata": {},
     "output_type": "execute_result"
    }
   ],
   "source": [
    "dfVinos.corr()[\"quality\"].sort_values(ascending=False)"
   ]
  },
  {
   "cell_type": "markdown",
   "metadata": {},
   "source": [
    "Por lo tanto, se tomarán las variables **\"alcohol\"** y **\"volatile acidity\"**."
   ]
  },
  {
   "cell_type": "code",
   "execution_count": 10,
   "metadata": {},
   "outputs": [
    {
     "data": {
      "text/plain": [
       "0    5\n",
       "1    5\n",
       "2    5\n",
       "3    6\n",
       "4    5\n",
       "Name: quality, dtype: int64"
      ]
     },
     "execution_count": 10,
     "metadata": {},
     "output_type": "execute_result"
    }
   ],
   "source": [
    "calidad=dfVinos[\"quality\"]\n",
    "calidad.head()\n"
   ]
  },
  {
   "cell_type": "code",
   "execution_count": 11,
   "metadata": {},
   "outputs": [
    {
     "name": "stdout",
     "output_type": "stream",
     "text": [
      "Indice:  0 \t Variable:  fixed acidity\n",
      "Indice:  1 \t Variable:  volatile acidity\n",
      "Indice:  2 \t Variable:  citric acid\n",
      "Indice:  3 \t Variable:  residual sugar\n",
      "Indice:  4 \t Variable:  chlorides\n",
      "Indice:  5 \t Variable:  free sulfur dioxide\n",
      "Indice:  6 \t Variable:  total sulfur dioxide\n",
      "Indice:  7 \t Variable:  density\n",
      "Indice:  8 \t Variable:  pH\n",
      "Indice:  9 \t Variable:  sulphates\n",
      "Indice:  10 \t Variable:  alcohol\n",
      "Indice:  11 \t Variable:  quality\n"
     ]
    }
   ],
   "source": [
    "for num, line in enumerate(dfVinos.columns):\n",
    "    print(\"Indice: \" ,num, \"\\t Variable: \", line)"
   ]
  },
  {
   "cell_type": "markdown",
   "metadata": {},
   "source": [
    "Histogramas"
   ]
  },
  {
   "cell_type": "code",
   "execution_count": 12,
   "metadata": {},
   "outputs": [
    {
     "data": {
      "image/png": "[encoded data removed]",
      "text/plain": [
       "<Figure size 936x936 with 12 Axes>"
      ]
     },
     "metadata": {
      "needs_background": "light"
     },
     "output_type": "display_data"
    }
   ],
   "source": [
    "## Se define subplot\n",
    "filasTabla=3\n",
    "columnasTabla=4\n",
    "fig, axes = plt.subplots(filasTabla,columnasTabla, figsize=(13, 13), sharex=False)\n",
    "\n",
    "indice=0\n",
    "for i in range(filasTabla):\n",
    "        \n",
    "    for j in range(columnasTabla):\n",
    "        sb.distplot(dfVinos.iloc[0:,indice],color=\"skyblue\", ax=axes[i, j])\n",
    "        indice+=1"
   ]
  },
  {
   "cell_type": "markdown",
   "metadata": {},
   "source": [
    "## Aplicando regresión polinomial\n",
    "\n",
    "Ya que se han seleccionado las dos variables \"Alcohol\" y \"Acidez volátil\", se procede llevarlo a la forma:  \n",
    " * a = Alcohol\n",
    " * b = AcidezVolatil\n",
    "\n",
    "$[1,a,b,a^{2},b^{2},ab]$"
   ]
  },
  {
   "cell_type": "code",
   "execution_count": 13,
   "metadata": {},
   "outputs": [],
   "source": [
    "a=dfVinos[\"alcohol\"]\n",
    "b=dfVinos[\"volatile acidity\"]\n",
    "aa=a*a\n",
    "bb=b*b\n",
    "ab=a*b"
   ]
  },
  {
   "cell_type": "code",
   "execution_count": 14,
   "metadata": {},
   "outputs": [
    {
     "data": {
      "text/html": [
       "<div>\n",
       "<style scoped>\n",
       "    .dataframe tbody tr th:only-of-type {\n",
       "        vertical-align: middle;\n",
       "    }\n",
       "\n",
       "    .dataframe tbody tr th {\n",
       "        vertical-align: top;\n",
       "    }\n",
       "\n",
       "    .dataframe thead th {\n",
       "        text-align: right;\n",
       "    }\n",
       "</style>\n",
       "<table border=\"1\" class=\"dataframe\">\n",
       "  <thead>\n",
       "    <tr style=\"text-align: right;\">\n",
       "      <th></th>\n",
       "      <th>unos</th>\n",
       "      <th>a</th>\n",
       "      <th>b</th>\n",
       "      <th>aa</th>\n",
       "      <th>bb</th>\n",
       "      <th>ab</th>\n",
       "    </tr>\n",
       "  </thead>\n",
       "  <tbody>\n",
       "    <tr>\n",
       "      <th>0</th>\n",
       "      <td>1</td>\n",
       "      <td>9.4</td>\n",
       "      <td>0.70</td>\n",
       "      <td>88.36</td>\n",
       "      <td>0.4900</td>\n",
       "      <td>6.580</td>\n",
       "    </tr>\n",
       "    <tr>\n",
       "      <th>1</th>\n",
       "      <td>1</td>\n",
       "      <td>9.8</td>\n",
       "      <td>0.88</td>\n",
       "      <td>96.04</td>\n",
       "      <td>0.7744</td>\n",
       "      <td>8.624</td>\n",
       "    </tr>\n",
       "    <tr>\n",
       "      <th>2</th>\n",
       "      <td>1</td>\n",
       "      <td>9.8</td>\n",
       "      <td>0.76</td>\n",
       "      <td>96.04</td>\n",
       "      <td>0.5776</td>\n",
       "      <td>7.448</td>\n",
       "    </tr>\n",
       "    <tr>\n",
       "      <th>3</th>\n",
       "      <td>1</td>\n",
       "      <td>9.8</td>\n",
       "      <td>0.28</td>\n",
       "      <td>96.04</td>\n",
       "      <td>0.0784</td>\n",
       "      <td>2.744</td>\n",
       "    </tr>\n",
       "    <tr>\n",
       "      <th>4</th>\n",
       "      <td>1</td>\n",
       "      <td>9.4</td>\n",
       "      <td>0.70</td>\n",
       "      <td>88.36</td>\n",
       "      <td>0.4900</td>\n",
       "      <td>6.580</td>\n",
       "    </tr>\n",
       "  </tbody>\n",
       "</table>\n",
       "</div>"
      ],
      "text/plain": [
       "   unos    a     b     aa      bb     ab\n",
       "0     1  9.4  0.70  88.36  0.4900  6.580\n",
       "1     1  9.8  0.88  96.04  0.7744  8.624\n",
       "2     1  9.8  0.76  96.04  0.5776  7.448\n",
       "3     1  9.8  0.28  96.04  0.0784  2.744\n",
       "4     1  9.4  0.70  88.36  0.4900  6.580"
      ]
     },
     "execution_count": 14,
     "metadata": {},
     "output_type": "execute_result"
    }
   ],
   "source": [
    "##Creando matriz\n",
    "matrizPolinomial=pd.concat([a, b,aa,bb,ab], axis=1)\n",
    "matrizPolinomial.insert(0, 'unos', 1)\n",
    "matrizPolinomial.columns=[\"unos\",\"a\",\"b\",\"aa\",\"bb\",\"ab\"]\n",
    "\n",
    "matrizPolinomial.head()"
   ]
  },
  {
   "cell_type": "markdown",
   "metadata": {},
   "source": [
    "Dado que nuestra matriz es de 6 columnas, se requiereon 6 parametros entrenables."
   ]
  },
  {
   "cell_type": "code",
   "execution_count": 15,
   "metadata": {},
   "outputs": [
    {
     "data": {
      "text/plain": [
       "6"
      ]
     },
     "execution_count": 15,
     "metadata": {},
     "output_type": "execute_result"
    }
   ],
   "source": [
    "matrizPolinomial.shape[1]"
   ]
  },
  {
   "cell_type": "markdown",
   "metadata": {},
   "source": [
    "Definicion de parametros en forma matricial"
   ]
  },
  {
   "cell_type": "code",
   "execution_count": 16,
   "metadata": {},
   "outputs": [
    {
     "data": {
      "text/html": [
       "<div>\n",
       "<style scoped>\n",
       "    .dataframe tbody tr th:only-of-type {\n",
       "        vertical-align: middle;\n",
       "    }\n",
       "\n",
       "    .dataframe tbody tr th {\n",
       "        vertical-align: top;\n",
       "    }\n",
       "\n",
       "    .dataframe thead th {\n",
       "        text-align: right;\n",
       "    }\n",
       "</style>\n",
       "<table border=\"1\" class=\"dataframe\">\n",
       "  <thead>\n",
       "    <tr style=\"text-align: right;\">\n",
       "      <th></th>\n",
       "      <th>parametros</th>\n",
       "    </tr>\n",
       "  </thead>\n",
       "  <tbody>\n",
       "    <tr>\n",
       "      <th>0</th>\n",
       "      <td>0.0</td>\n",
       "    </tr>\n",
       "    <tr>\n",
       "      <th>1</th>\n",
       "      <td>0.0</td>\n",
       "    </tr>\n",
       "    <tr>\n",
       "      <th>2</th>\n",
       "      <td>0.0</td>\n",
       "    </tr>\n",
       "    <tr>\n",
       "      <th>3</th>\n",
       "      <td>0.0</td>\n",
       "    </tr>\n",
       "    <tr>\n",
       "      <th>4</th>\n",
       "      <td>0.0</td>\n",
       "    </tr>\n",
       "    <tr>\n",
       "      <th>5</th>\n",
       "      <td>0.0</td>\n",
       "    </tr>\n",
       "  </tbody>\n",
       "</table>\n",
       "</div>"
      ],
      "text/plain": [
       "   parametros\n",
       "0         0.0\n",
       "1         0.0\n",
       "2         0.0\n",
       "3         0.0\n",
       "4         0.0\n",
       "5         0.0"
      ]
     },
     "execution_count": 16,
     "metadata": {},
     "output_type": "execute_result"
    }
   ],
   "source": [
    "parametros=pd.DataFrame([0.0,0,0,0,0,0],columns=[\"parametros\"])\n",
    "parametros"
   ]
  },
  {
   "cell_type": "markdown",
   "metadata": {},
   "source": [
    "### Definición del grafo"
   ]
  },
  {
   "cell_type": "code",
   "execution_count": 17,
   "metadata": {},
   "outputs": [],
   "source": [
    "grafo = tf.Graph()\n",
    "with grafo.as_default():\n",
    "    \n",
    "    #placeholder para el Learning Rate\n",
    "    tensorLR = tf.placeholder(dtype = tf.float64,name = \"LR\")    \n",
    "  \n",
    "    # Asignación de constantes para las variables independientes y dependiente\n",
    "    tensorCalidad = tf.constant(calidad,tf.float64)\n",
    "    tensorMatrizPolinomial = tf.constant(matrizPolinomial)\n",
    "    \n",
    "    # Parametros entrenables del modelo \n",
    "    tensorParametros = tf.Variable(parametros, name = \"Parametros\", dtype = tf.float64)\n",
    "    \n",
    "    with tf.name_scope(\"Modelo\"):\n",
    "        # producto matricial para creación del modelo basado en regresión lineal \n",
    "        tensorCalidadHat = tf.matmul(tensorMatrizPolinomial, tensorParametros)\n",
    "        \n",
    "    with tf.name_scope(\"Funcion_Costo\"):\n",
    "        # función costo\n",
    "        tensorError = (tf.reduce_mean(tf.pow(tensorCalidad-tensorCalidadHat,2)))*0.5\n",
    "    \n",
    "    \n",
    "    # código para tensorboard\n",
    "    # función de costo en tensorboard\n",
    "    with tf.name_scope(\"Resumen\"):\n",
    "        tensorSummary = tf.summary.scalar(name='Resumen', tensor=tensorError)\n",
    "    \n",
    "    with tf.name_scope(\"Optimizador\"):\n",
    "        # grafica del tensor optimizador utilizando GD desde TF\n",
    "        tensorOptimizador = tf.train.GradientDescentOptimizer(tensorLR).minimize(tensorError)\n",
    "    \n",
    "    #Para efectos visuales de impresión se pasan los parametros a forma lineal\n",
    "    #Esto es únicamente para la impresión, no para el calculo del modelo. \n",
    "    tensorParametrosLinea= tf.reshape(tensorParametros, [6])\n",
    "    \n",
    "    #init = tf.global_variables_initializer()"
   ]
  },
  {
   "cell_type": "markdown",
   "metadata": {},
   "source": [
    "### Funcion para entrenar el modelo"
   ]
  },
  {
   "cell_type": "code",
   "execution_count": 18,
   "metadata": {},
   "outputs": [],
   "source": [
    "def entrenar(epocas,learningRate,imprime,grafoEntrada,parametrosEntrada):\n",
    "    \n",
    "    with tf.Session(graph = grafoEntrada) as session:\n",
    "        \n",
    "        # inicializacion de variables con funcion de TF\n",
    "        tf.global_variables_initializer().run()\n",
    "        \n",
    "        \n",
    "        print('....:::::::::Inicio del proceso de Entrenamiento:::::::::....\\n')\n",
    "        \n",
    "        ## Escritura de logs para TensorBoard en el directorio logs/parametrosX\n",
    "        ## Notar que se usa lenght parametros para identificar el modelo que tiene 6 parametros entrenables\n",
    "        \n",
    "        # TENSORBOARD INICIO\n",
    "        writer = tf.summary.FileWriter('./logs/parametros.%d_lr.%f' % (len(parametrosEntrada), learningRate), session.graph)\n",
    "        # TENSORBOARD FIN\n",
    "        \n",
    "        for contador in range(epocas): \n",
    "            # envío de parametros por medio de feed_dict.\n",
    "            # Se ejecutan las instrucciones del grafo definido anteriormente con tensorError y tensorOptimizador\n",
    "            \n",
    "            error = session.run(tensorError)\n",
    "            optimizador = session.run(tensorOptimizador,feed_dict={tensorLR:learningRate})\n",
    "            summary = session.run(tensorSummary)\n",
    "            parametrosEnlinea= session.run(tensorParametrosLinea)\n",
    "       \n",
    "        # TENSORBOARD INICIO\n",
    "            writer.add_summary(summary, contador)\n",
    "        # TENSORBOARD FIN\n",
    "        \n",
    "            if (contador % imprime == 0):            \n",
    "                print(\"Iteracion:\", contador, \"Error:\", error, \"Parámetros:\",  parametrosEnlinea)  \n",
    "       \n",
    "        # TENSORBOARD INICIO\n",
    "        writer.close()\n",
    "        # TENSORBOARD FIN\n"
   ]
  },
  {
   "cell_type": "markdown",
   "metadata": {},
   "source": [
    "## Entrenamiento del modelo\n",
    "Se modifica el valor del Learning rate de:  \n",
    "\n",
    "* LR = 0.0001  \n",
    "* LR = 0.001  \n",
    "* LR = 0.01  \n",
    "* LR = 0.1  \n",
    "* LR = 1  \n",
    "* LR = 10  \n",
    "* LR = 100  "
   ]
  },
  {
   "cell_type": "code",
   "execution_count": 19,
   "metadata": {},
   "outputs": [
    {
     "name": "stdout",
     "output_type": "stream",
     "text": [
      "....:::::::::Inicio del proceso de Entrenamiento:::::::::....\n",
      "\n",
      "Iteracion: 0 Error: 16.20825515947467 Parámetros: [0.0005636  0.00587442 0.00029748 0.0618686  0.00017508 0.0030789 ]\n",
      "Iteracion: 1 Error: 2.1296040124945685 Parámetros: [0.00044017 0.00443435 0.00023745 0.04496632 0.00014168 0.00238212]\n",
      "Iteracion: 2 Error: 1.0813251913379882 Parámetros: [0.00050418 0.00498989 0.00027496 0.04955549 0.00016515 0.0027154 ]\n",
      "Iteracion: 3 Error: 1.0030125634984681 Parámetros: [0.00051704 0.00500093 0.00028584 0.04828105 0.0001731  0.00276756]\n",
      "Iteracion: 4 Error: 0.9969033188132608 Parámetros: [0.00054384 0.00516048 0.00030398 0.04860641 0.00018527 0.00289634]\n",
      "Iteracion: 5 Error: 0.9961690224341968 Parámetros: [0.00056684 0.00527948 0.00032013 0.0484953  0.00019628 0.00300413]\n",
      "Iteracion: 6 Error: 0.9958350420707311 Parámetros: [0.00059087 0.00540951 0.00033681 0.04850328 0.0002076  0.00311756]\n",
      "Iteracion: 7 Error: 0.9955310716037216 Parámetros: [0.00061461 0.0055365  0.00035334 0.04847878 0.00021883 0.00322937]\n",
      "Iteracion: 8 Error: 0.9952295456773521 Parámetros: [0.00063842 0.00566427 0.0003699  0.04846314 0.00023007 0.00334154]\n",
      "Iteracion: 9 Error: 0.9949284121655965 Parámetros: [0.0006622  0.0057918  0.00038644 0.0484451  0.0002413  0.00345353]\n"
     ]
    }
   ],
   "source": [
    "entrenar(10,0.0001,1,grafo,parametros)"
   ]
  },
  {
   "cell_type": "code",
   "execution_count": 20,
   "metadata": {},
   "outputs": [
    {
     "name": "stdout",
     "output_type": "stream",
     "text": [
      "....:::::::::Inicio del proceso de Entrenamiento:::::::::....\n",
      "\n",
      "Iteracion: 0 Error: 16.20825515947467 Parámetros: [0.00563602 0.05874417 0.00297481 0.618686   0.00175076 0.03078896]\n",
      "Iteracion: 1 Error: 2093.2770606371414 Parámetros: [-0.05743153 -0.61396002 -0.02980124 -6.63971607 -0.01734586 -0.31598913]\n",
      "Iteracion: 2 Error: 287803.1405019104 Parámetros: [ 0.68527352  7.2919803   0.35671171 78.48712311  0.20805391  3.76538792]\n",
      "Iteracion: 3 Error: 39588383.21976176 Parámetros: [  -8.02241004  -85.4154481    -4.17435232 -919.91233327   -2.43409407\n",
      "  -44.08826401]\n",
      "Iteracion: 4 Error: 5445546581.407973 Parámetros: [   94.1073504   1001.90573641    48.9696306  10789.66219157\n",
      "    28.55534848   517.17012001]\n",
      "Iteracion: 5 Error: 749057574175.8208 Parámetros: [  -1103.7030631   -11750.55989538    -574.31944458 -126544.31051154\n",
      "    -334.89823112   -6065.44979426]\n",
      "Iteracion: 6 Error: 103035983834185.88 Parámetros: [  12944.63787061  137814.81700783    6735.83409476 1484156.37630756\n",
      "    3927.81339698   71137.82434012]\n",
      "Iteracion: 7 Error: 1.4173027989702212e+16 Parámetros: [  -151819.19707196  -1616340.02673209    -79000.19194744\n",
      " -17406702.56631217    -46066.75263224   -834329.06411576]\n",
      "Iteracion: 8 Error: 1.949558930015641e+18 Parámetros: [1.78058848e+06 1.89569993e+07 9.26541800e+05 2.04151874e+08\n",
      " 5.40286941e+05 9.78530215e+06]\n",
      "Iteracion: 9 Error: 2.6816993689459242e+20 Parámetros: [-2.08833621e+07 -2.22334293e+08 -1.08668051e+07 -2.39436432e+09\n",
      " -6.33667350e+06 -1.14765433e+08]\n"
     ]
    }
   ],
   "source": [
    "entrenar(10,0.001,1,grafo,parametros)"
   ]
  },
  {
   "cell_type": "code",
   "execution_count": 21,
   "metadata": {},
   "outputs": [
    {
     "name": "stdout",
     "output_type": "stream",
     "text": [
      "....:::::::::Inicio del proceso de Entrenamiento:::::::::....\n",
      "\n",
      "Iteracion: 0 Error: 16.20825515947467 Parámetros: [0.05636023 0.58744167 0.02974808 6.18685997 0.01750756 0.30788961]\n",
      "Iteracion: 1 Error: 242572.4280046829 Parámetros: [  -6.75763678  -71.96995204   -3.5155897  -775.33508624   -2.04972239\n",
      "  -37.14092585]\n",
      "Iteracion: 2 Error: 3868412851.8944664 Parámetros: [  854.03417702  9092.42067722   444.40384409 97917.76346487\n",
      "   259.14207961  4693.37574675]\n",
      "Iteracion: 3 Error: 61691585564645.74 Parámetros: [  -107849.46574962  -1148217.20858507    -56120.23038358\n",
      " -12365390.8492324     -32724.94249657   -592691.48315157]\n",
      "Iteracion: 4 Error: 9.838277030181083e+17 Parámetros: [1.36196076e+07 1.45000877e+08 7.08705908e+06 1.56154465e+09\n",
      " 4.13262032e+06 7.48471514e+07]\n",
      "Iteracion: 5 Error: 1.5689610509550522e+22 Parámetros: [-1.71993151e+09 -1.83112161e+10 -8.94978516e+08 -1.97197300e+11\n",
      " -5.21881694e+08 -9.45195910e+09]\n",
      "Iteracion: 6 Error: 2.5021035409577967e+26 Parámetros: [2.17198944e+11 2.31240417e+12 1.13021006e+11 2.49027622e+13\n",
      " 6.59050389e+10 1.19362633e+12]\n",
      "Iteracion: 7 Error: 3.9902342546124174e+30 Parámetros: [-2.74286395e+13 -2.92018457e+14 -1.42726864e+13 -3.14480760e+15\n",
      " -8.32271798e+12 -1.50735293e+14]\n",
      "Iteracion: 8 Error: 6.363433465502172e+34 Parámetros: [3.46378418e+15 3.68771084e+16 1.80240458e+15 3.97137262e+17\n",
      " 1.05102183e+15 1.90353780e+16]\n",
      "Iteracion: 9 Error: 1.0148097301070928e+39 Parámetros: [-4.37418737e+17 -4.65696975e+18 -2.27613931e+17 -5.01518774e+19\n",
      " -1.32726699e+17 -2.40385387e+18]\n"
     ]
    }
   ],
   "source": [
    "entrenar(10,0.01,1,grafo,parametros)"
   ]
  },
  {
   "cell_type": "code",
   "execution_count": 22,
   "metadata": {},
   "outputs": [
    {
     "name": "stdout",
     "output_type": "stream",
     "text": [
      "....:::::::::Inicio del proceso de Entrenamiento:::::::::....\n",
      "\n",
      "Iteracion: 0 Error: 16.20825515947467 Parámetros: [ 0.56360225  5.87441675  0.29748083 61.86859973  0.17507561  3.0788961 ]\n",
      "Iteracion: 1 Error: 24604131.575225085 Parámetros: [  -685.90851804  -7302.73470562   -356.91362493 -78647.14341902\n",
      "   -208.12359973  -3769.51271493]\n",
      "Iteracion: 2 Error: 39798753288154.0 Parámetros: [8.72416752e+05 9.28816703e+06 4.53968224e+05 1.00026202e+08\n",
      " 2.64718873e+05 4.79440442e+06]\n",
      "Iteracion: 3 Error: 6.437702573864454e+19 Parámetros: [-1.10956995e+09 -1.18130141e+10 -5.77372567e+08 -1.27216810e+11\n",
      " -3.36678667e+08 -6.09769039e+09]\n",
      "Iteracion: 4 Error: 1.0413395145690984e+26 Parámetros: [1.41118973e+12 1.50242030e+13 7.34322551e+11 1.61798772e+14\n",
      " 4.28199661e+11 7.75525512e+12]\n",
      "Iteracion: 5 Error: 1.684433184293668e+32 Parámetros: [-1.79480028e+15 -1.91083049e+16 -9.33937010e+14 -2.05781316e+17\n",
      " -5.44599250e+14 -9.86340371e+15]\n",
      "Iteracion: 6 Error: 2.7246782751001007e+38 Parámetros: [2.28268954e+18 2.43026081e+19 1.18781363e+18 2.61719849e+20\n",
      " 6.92640304e+17 1.25446206e+19]\n",
      "Iteracion: 7 Error: 4.4073411590472435e+44 Parámetros: [-2.90320410e+21 -3.09089038e+22 -1.51070277e+21 -3.32864424e+23\n",
      " -8.80924076e+20 -1.59546856e+22]\n",
      "Iteracion: 8 Error: 7.12915586025224e+50 Parámetros: [3.69239614e+24 3.93110209e+25 1.92136443e+24 4.23348574e+26\n",
      " 1.12038994e+24 2.02917251e+25]\n",
      "Iteracion: 9 Error: 1.1531865005602581e+57 Parámetros: [-4.69611808e+27 -4.99971263e+28 -2.44365824e+27 -5.38429469e+29\n",
      " -1.42495096e+27 -2.58077231e+28]\n"
     ]
    }
   ],
   "source": [
    "entrenar(10,0.1,1,grafo,parametros)"
   ]
  },
  {
   "cell_type": "code",
   "execution_count": 23,
   "metadata": {},
   "outputs": [
    {
     "name": "stdout",
     "output_type": "stream",
     "text": [
      "....:::::::::Inicio del proceso de Entrenamiento:::::::::....\n",
      "\n",
      "Iteracion: 0 Error: 16.20825515947467 Parámetros: [  5.63602251  58.7441675    2.97480829 618.68599734   1.75075611\n",
      "  30.78896095]\n",
      "Iteracion: 1 Error: 2463896486.8254223 Parámetros: [  -68692.30020877  -731330.8655769    -35744.90904258 -7875850.68985463\n",
      "   -20843.87358305  -377505.47278987]\n",
      "Iteracion: 2 Error: 3.9911525528135904e+17 Parámetros: [8.74270074e+08 9.30789869e+09 4.54932614e+08 1.00238700e+11\n",
      " 2.65281233e+08 4.80458958e+09]\n",
      "Iteracion: 3 Error: 6.4650843933057655e+25 Parámetros: [-1.11271399e+13 -1.18464870e+14 -5.79008588e+12 -1.27577286e+15\n",
      " -3.37632667e+12 -6.11496857e+13]\n",
      "Iteracion: 4 Error: 1.0472492759792035e+34 Parámetros: [1.41618987e+17 1.50774368e+18 7.36924407e+16 1.62372058e+19\n",
      " 4.29716861e+16 7.78273359e+17]\n",
      "Iteracion: 5 Error: 1.696390919776029e+42 Parámetros: [-1.80243419e+21 -1.91895793e+22 -9.37909373e+20 -2.06656577e+23\n",
      " -5.46915623e+20 -9.90535625e+21]\n",
      "Iteracion: 6 Error: 2.747905602520288e+50 Parámetros: [2.29402081e+25 2.44232462e+26 1.19370994e+25 2.63019026e+27\n",
      " 6.96078572e+24 1.26068921e+26]\n",
      "Iteracion: 7 Error: 4.4512058584700077e+58 Parámetros: [-2.91968022e+29 -3.10843166e+30 -1.51927624e+29 -3.34753480e+31\n",
      " -8.85923455e+28 -1.60452309e+30]\n",
      "Iteracion: 8 Error: 7.210303576769758e+66 Parámetros: [3.71597876e+33 3.95620929e+34 1.93363582e+33 4.26052420e+35\n",
      " 1.12754565e+33 2.04213244e+34]\n",
      "Iteracion: 9 Error: 1.1679639028658295e+75 Parámetros: [-4.72945567e+37 -5.03520543e+38 -2.46100568e+37 -5.42251762e+39\n",
      " -1.43506664e+37 -2.59909312e+38]\n"
     ]
    }
   ],
   "source": [
    "entrenar(10,1,1,grafo,parametros)"
   ]
  },
  {
   "cell_type": "code",
   "execution_count": 24,
   "metadata": {},
   "outputs": [
    {
     "name": "stdout",
     "output_type": "stream",
     "text": [
      "....:::::::::Inicio del proceso de Entrenamiento:::::::::....\n",
      "\n",
      "Iteracion: 0 Error: 16.20825515947467 Parámetros: [  56.36022514  587.44167497   29.74808294 6186.85997342   17.50756111\n",
      "  307.88960951]\n",
      "Iteracion: 1 Error: 246424496417.1267 Parámetros: [-6.87024450e+06 -7.31436605e+07 -3.57502637e+06 -7.87696432e+08\n",
      " -2.08470249e+06 -3.77560893e+07]\n",
      "Iteracion: 2 Error: 3.9922815918537074e+21 Parámetros: [8.74455557e+11 9.30987343e+12 4.55029132e+11 1.00259966e+14\n",
      " 2.65337515e+11 4.80560892e+12]\n",
      "Iteracion: 3 Error: 6.467827904901301e+31 Parámetros: [-1.11302876e+17 -1.18498382e+18 -5.79172382e+16 -1.27613376e+19\n",
      " -3.37728178e+16 -6.11669841e+17]\n",
      "Iteracion: 4 Error: 1.0478418629783025e+42 Parámetros: [1.41669066e+22 1.50827685e+23 7.37184998e+21 1.62429476e+24\n",
      " 4.29868817e+21 7.78548571e+22]\n",
      "Iteracion: 5 Error: 1.6975908851529646e+52 Parámetros: [-1.80319907e+27 -1.91977225e+28 -9.38307383e+26 -2.06744273e+29\n",
      " -5.47147711e+26 -9.90955967e+27]\n",
      "Iteracion: 6 Error: 2.7502382899299184e+62 Parámetros: [2.29515658e+32 2.44353382e+33 1.19430095e+32 2.63149248e+34\n",
      " 6.96423202e+31 1.26131338e+33]\n",
      "Iteracion: 7 Error: 4.455614552098101e+72 Parámetros: [-2.92133233e+37 -3.11019057e+38 -1.52013593e+37 -3.34942901e+39\n",
      " -8.86424755e+36 -1.60543101e+38]\n",
      "Iteracion: 8 Error: 7.218465799694128e+82 Parámetros: [3.71834438e+42 3.95872783e+43 1.93486678e+42 4.26323647e+44\n",
      " 1.12826345e+42 2.04343248e+43]\n",
      "Iteracion: 9 Error: 1.1694514391245428e+93 Parámetros: [-4.73280111e+47 -5.03876715e+48 -2.46274651e+47 -5.42635331e+49\n",
      " -1.43608176e+47 -2.60093163e+48]\n"
     ]
    }
   ],
   "source": [
    "entrenar(10,10,1,grafo,parametros)"
   ]
  },
  {
   "cell_type": "code",
   "execution_count": 25,
   "metadata": {},
   "outputs": [
    {
     "name": "stdout",
     "output_type": "stream",
     "text": [
      "....:::::::::Inicio del proceso de Entrenamiento:::::::::....\n",
      "\n",
      "Iteracion: 0 Error: 16.20825515947467 Parámetros: [  563.60225141  5874.41674968   297.48082936 61868.5997342\n",
      "   175.07561106  3078.89609512]\n",
      "Iteracion: 1 Error: 24642798133500.08 Parámetros: [-6.87034595e+08 -7.31447179e+09 -3.57507992e+08 -7.87707569e+10\n",
      " -2.08473401e+08 -3.77566435e+09]\n",
      "Iteracion: 2 Error: 3.992394508931019e+25 Parámetros: [8.74474107e+14 9.31007091e+15 4.55038785e+14 1.00262093e+17\n",
      " 2.65343144e+14 4.80571087e+15]\n",
      "Iteracion: 3 Error: 6.468102309413176e+37 Parámetros: [-1.11306024e+21 -1.18501734e+22 -5.79188763e+20 -1.27616986e+23\n",
      " -3.37737730e+20 -6.11687141e+21]\n",
      "Iteracion: 4 Error: 1.047901137812102e+50 Parámetros: [1.41674075e+27 1.50833018e+28 7.37211061e+26 1.62435219e+29\n",
      " 4.29884015e+26 7.78576097e+27]\n",
      "Iteracion: 5 Error: 1.6977109236967617e+62 Parámetros: [-1.80327558e+33 -1.91985370e+34 -9.38347191e+32 -2.06753044e+35\n",
      " -5.47170924e+32 -9.90998009e+33]\n",
      "Iteracion: 6 Error: 2.750471658478266e+74 Parámetros: [2.29527019e+39 2.44365477e+40 1.19436007e+39 2.63162273e+41\n",
      " 6.96457673e+38 1.26137581e+40]\n",
      "Iteracion: 7 Error: 4.4560556443962864e+86 Parámetros: [-2.92149758e+45 -3.11036650e+46 -1.52022192e+45 -3.34961848e+47\n",
      " -8.86474899e+44 -1.60552182e+46]\n",
      "Iteracion: 8 Error: 7.219282498239527e+98 Parámetros: [3.71858101e+51 3.95897976e+52 1.93498991e+51 4.26350778e+53\n",
      " 1.12833526e+51 2.04356252e+52]\n",
      "Iteracion: 9 Error: 1.1696002911213282e+111 Parámetros: [-4.73313577e+57 -5.03912345e+58 -2.46292065e+57 -5.42673701e+59\n",
      " -1.43618331e+57 -2.60111554e+58]\n"
     ]
    }
   ],
   "source": [
    "entrenar(10,100,1,grafo,parametros)"
   ]
  },
  {
   "cell_type": "markdown",
   "metadata": {},
   "source": [
    "## Sección TensorBoard\n",
    "\n",
    "Instrucción en la línea de comandos para ver las graficas de los logs generados.  \n",
    "\n",
    "Log individal:  \n",
    "    \n",
    "**tensorboard --logdir logs/parametros.6_lr.0.000100 --port 6006**  \n",
    "**tensorboard --logdir logs/parametros.6_lr.0.001000 --port 6006**  \n",
    "**tensorboard --logdir logs/parametros.6_lr.0.010000 --port 6006**  \n",
    "**tensorboard --logdir logs/parametros.6_lr.0.100000 --port 6006**  \n",
    "**tensorboard --logdir logs/parametros.6_lr.1.000000 --port 6006**  \n",
    "**tensorboard --logdir logs/parametros.6_lr.10.000000 --port 6006**  \n",
    "**tensorboard --logdir logs/parametros.6_lr.100.000000 --port 6006**  \n",
    "\n",
    "  \n",
    "\n",
    "\n",
    "Todos los logs  \n",
    "**tensorboard --logdir logs --port 6006**  \n",
    "\n",
    "\n",
    "Acceso:  \n",
    "http://localhost:6006/\n",
    "\n",
    "\n",
    "Archivos y directorios logs generados  \n",
    "Carpetas generadas por LR  \n",
    "![1.directorios.JPG](img/1.directorios.JPG)  \n",
    "\n",
    "Archivo de eventos:  \n",
    "![2.eventos.JPG](img/2.eventos.JPG)  \n",
    "\n",
    "Board1:  \n",
    "![3.board1.JPG](img/3.board1.JPG)  \n",
    "\n",
    "Board2:  \n",
    "![3.board2.JPG](img/3.board2.JPG)   \n",
    "\n",
    "Grafo:  \n",
    "![4.grafo.JPG](img/4.grafo.JPG)   \n",
    "\n",
    "\n",
    "\n",
    "\n",
    "\n",
    "\n",
    "\n",
    "\n"
   ]
  },
  {
   "cell_type": "markdown",
   "metadata": {},
   "source": [
    "# Conclusión\n",
    "\n",
    "Se observa que al utilizar un modelo **polinomial de grado 2**, el modelo es resuelto a partir de la **iteración número 4** con un learning rate de **0.0001**.    \n",
    "\n",
    "Para los demás casos del LR, se observa inestabilidad en el error o la función costo no converge. En la mayoría de veces tiende a crecer e incluso, se observa que con un learning rate mayor a 0.01 el error es inestable al crecer y decrecer constantemente, es decir, no converge nunca.   \n",
    "\n",
    "\n",
    "El modelo matemático recomendado para resolver este problema cuando se utilizan las 2 variables \"alcohol\" y \"acidez volatil\" es:  \n",
    "\n",
    "Parametros:  [0.00054384 0.00516048 0.00030398 0.04860641 0.00018527 0.00289634]   \n",
    "\n",
    "Formula:  \n",
    "$CalidadDelVino = 0.00054384 + 0.00516048(a) + 0.00030398(b) + 0.04860641(ab)+ 0.00018527(a^2)+ 0.00289634(b^2)$   \n",
    "\n",
    "*Donde:  \n",
    "a= alcohol  \n",
    "b= acidez volatil*\n",
    "\n",
    "\n",
    "\n"
   ]
  }
 ],
 "metadata": {
  "kernelspec": {
   "display_name": "Python 3",
   "language": "python",
   "name": "python3"
  },
  "language_info": {
   "codemirror_mode": {
    "name": "ipython",
    "version": 3
   },
   "file_extension": ".py",
   "mimetype": "text/x-python",
   "name": "python",
   "nbconvert_exporter": "python",
   "pygments_lexer": "ipython3",
   "version": "3.7.1"
  }
 },
 "nbformat": 4,
 "nbformat_minor": 4
}
